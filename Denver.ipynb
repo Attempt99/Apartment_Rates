{
  "nbformat": 4,
  "nbformat_minor": 0,
  "metadata": {
    "colab": {
      "name": "Denver.ipynb",
      "provenance": [],
      "collapsed_sections": [],
      "mount_file_id": "1RaD4JF0wzwe4jEtTOuvzuGztBDYb66X4",
      "authorship_tag": "ABX9TyMRTPcZLc24MnoICNqZsusE",
      "include_colab_link": true
    },
    "kernelspec": {
      "name": "python3",
      "display_name": "Python 3"
    }
  },
  "cells": [
    {
      "cell_type": "markdown",
      "metadata": {
        "id": "view-in-github",
        "colab_type": "text"
      },
      "source": [
        "<a href=\"https://colab.research.google.com/github/Attempt99/Apartment_Rates/blob/master/Denver.ipynb\" target=\"_parent\"><img src=\"https://colab.research.google.com/assets/colab-badge.svg\" alt=\"Open In Colab\"/></a>"
      ]
    },
    {
      "cell_type": "markdown",
      "metadata": {
        "id": "9QCFK1CYRnBG",
        "colab_type": "text"
      },
      "source": [
        "The following work book runs my ARIMA model for 1 year projections and t test to compare 2019 rates and the projected rates\n",
        "3 test will be ran from this wookbook for studio, 1br and 2br. the information will then be used in excel and tableau to create bar and line charts for my presentation."
      ]
    },
    {
      "cell_type": "markdown",
      "metadata": {
        "id": "88zmyNrRZMgB",
        "colab_type": "text"
      },
      "source": [
        "** Use account David.A.Sharp@gmail.com for mounting**"
      ]
    },
    {
      "cell_type": "code",
      "metadata": {
        "id": "AGQ9IF0KHu9u",
        "colab_type": "code",
        "outputId": "218d27a2-b3f1-4e30-be28-369ec8305f57",
        "colab": {
          "base_uri": "https://localhost:8080/",
          "height": 121
        }
      },
      "source": [
        "from google.colab import drive\n",
        "drive.mount('/content/gdrive')"
      ],
      "execution_count": 0,
      "outputs": [
        {
          "output_type": "stream",
          "text": [
            "Go to this URL in a browser: https://accounts.google.com/o/oauth2/auth?client_id=947318989803-6bn6qk8qdgf4n4g3pfee6491hc0brc4i.apps.googleusercontent.com&redirect_uri=urn%3aietf%3awg%3aoauth%3a2.0%3aoob&response_type=code&scope=email%20https%3a%2f%2fwww.googleapis.com%2fauth%2fdocs.test%20https%3a%2f%2fwww.googleapis.com%2fauth%2fdrive%20https%3a%2f%2fwww.googleapis.com%2fauth%2fdrive.photos.readonly%20https%3a%2f%2fwww.googleapis.com%2fauth%2fpeopleapi.readonly\n",
            "\n",
            "Enter your authorization code:\n",
            "··········\n",
            "Mounted at /content/gdrive\n"
          ],
          "name": "stdout"
        }
      ]
    },
    {
      "cell_type": "code",
      "metadata": {
        "id": "GWIsw_h7Il1W",
        "colab_type": "code",
        "outputId": "c77d4f06-acde-4a8f-8d16-b282ba927a8b",
        "colab": {
          "base_uri": "https://localhost:8080/",
          "height": 34
        }
      },
      "source": [
        "from google.colab import drive\n",
        "drive.mount('/content/drive')"
      ],
      "execution_count": 0,
      "outputs": [
        {
          "output_type": "stream",
          "text": [
            "Mounted at /content/drive\n"
          ],
          "name": "stdout"
        }
      ]
    },
    {
      "cell_type": "code",
      "metadata": {
        "id": "WZxSQdeN7ZBH",
        "colab_type": "code",
        "colab": {}
      },
      "source": [
        "import pandas as pd\n",
        "import matplotlib.pyplot as plt\n",
        "from datetime import datetime\n",
        "from sklearn.metrics import mean_squared_error\n",
        "from statsmodels.graphics.tsaplots import plot_acf\n",
        "from statsmodels.tsa.arima_model import ARIMA\n",
        "from pandas import DataFrame\n",
        "import itertools\n",
        "import warnings"
      ],
      "execution_count": 0,
      "outputs": []
    },
    {
      "cell_type": "markdown",
      "metadata": {
        "id": "7k8aHaUsVWgP",
        "colab_type": "text"
      },
      "source": [
        "here I imported the file and set the index, changed date column to a datetime format and set the frequency for months"
      ]
    },
    {
      "cell_type": "code",
      "metadata": {
        "id": "8Rh3VpHU7SYG",
        "colab_type": "code",
        "outputId": "f012c304-b1ab-40fc-cec0-e15c6bf9c77e",
        "colab": {
          "base_uri": "https://localhost:8080/",
          "height": 235
        }
      },
      "source": [
        "path = \"/content/drive/My Drive/Thinkful/capstone3/denver/Denver.csv\"\n",
        "def parser(x):\n",
        "    return '{:%Y-%m}'.format(datetime.strptime(x,'%Y_%m'))\n",
        "rent= pd.read_csv(path,index_col=0, parse_dates=[0] ,date_parser=parser)\n",
        "rent.index.to_period('M')"
      ],
      "execution_count": 0,
      "outputs": [
        {
          "output_type": "execute_result",
          "data": {
            "text/plain": [
              "PeriodIndex(['2014-01', '2014-02', '2014-03', '2014-04', '2014-05', '2014-06',\n",
              "             '2014-07', '2014-08', '2014-09', '2014-10', '2014-11', '2014-12',\n",
              "             '2015-01', '2015-02', '2015-03', '2015-04', '2015-05', '2015-06',\n",
              "             '2015-07', '2015-08', '2015-09', '2015-10', '2015-11', '2015-12',\n",
              "             '2016-01', '2016-02', '2016-03', '2016-04', '2016-05', '2016-06',\n",
              "             '2016-07', '2016-08', '2016-09', '2016-10', '2016-11', '2016-12',\n",
              "             '2017-01', '2017-02', '2017-03', '2017-04', '2017-05', '2017-06',\n",
              "             '2017-07', '2017-08', '2017-09', '2017-10', '2017-11', '2017-12',\n",
              "             '2018-01', '2018-02', '2018-03', '2018-04', '2018-05', '2018-06',\n",
              "             '2018-07', '2018-08', '2018-09', '2018-10', '2018-11', '2018-12',\n",
              "             '2019-01', '2019-02', '2019-03', '2019-04', '2019-05', '2019-06',\n",
              "             '2019-07', '2019-08', '2019-09', '2019-10', '2019-11', '2019-12'],\n",
              "            dtype='period[M]', name='date', freq='M')"
            ]
          },
          "metadata": {
            "tags": []
          },
          "execution_count": 5
        }
      ]
    },
    {
      "cell_type": "code",
      "metadata": {
        "id": "osD0oi74B4go",
        "colab_type": "code",
        "outputId": "2ba6982f-8bf2-4465-aaf4-2f475edffc17",
        "colab": {
          "base_uri": "https://localhost:8080/",
          "height": 151
        }
      },
      "source": [
        "rent.info()"
      ],
      "execution_count": 0,
      "outputs": [
        {
          "output_type": "stream",
          "text": [
            "<class 'pandas.core.frame.DataFrame'>\n",
            "DatetimeIndex: 72 entries, 2014-01-01 to 2019-12-01\n",
            "Data columns (total 3 columns):\n",
            "Studio    72 non-null int64\n",
            "1br       72 non-null int64\n",
            "2br       72 non-null int64\n",
            "dtypes: int64(3)\n",
            "memory usage: 2.2 KB\n"
          ],
          "name": "stdout"
        }
      ]
    },
    {
      "cell_type": "markdown",
      "metadata": {
        "id": "LKj_sLSvWB0H",
        "colab_type": "text"
      },
      "source": [
        " a quick null test of the data"
      ]
    },
    {
      "cell_type": "code",
      "metadata": {
        "id": "K6mp0kHkGWEY",
        "colab_type": "code",
        "outputId": "3e938b97-21c6-4b81-84bd-58aac5811da1",
        "colab": {
          "base_uri": "https://localhost:8080/",
          "height": 84
        }
      },
      "source": [
        "rent.isnull().any()"
      ],
      "execution_count": 0,
      "outputs": [
        {
          "output_type": "execute_result",
          "data": {
            "text/plain": [
              "Studio    False\n",
              "1br       False\n",
              "2br       False\n",
              "dtype: bool"
            ]
          },
          "metadata": {
            "tags": []
          },
          "execution_count": 7
        }
      ]
    },
    {
      "cell_type": "markdown",
      "metadata": {
        "id": "VEKN7_yfzFU7",
        "colab_type": "text"
      },
      "source": [
        "use the names set for each catagory to run different tests."
      ]
    },
    {
      "cell_type": "code",
      "metadata": {
        "id": "t8OkBObo9U0e",
        "colab_type": "code",
        "colab": {}
      },
      "source": [
        "studio=rent['Studio']\n",
        "onebr=rent['1br']\n",
        "twobr=rent['2br']"
      ],
      "execution_count": 0,
      "outputs": []
    },
    {
      "cell_type": "code",
      "metadata": {
        "id": "mLkTKMvJA3wE",
        "colab_type": "code",
        "outputId": "a3a1915a-463b-40e9-ed5c-15554b71accc",
        "colab": {
          "base_uri": "https://localhost:8080/",
          "height": 296
        }
      },
      "source": [
        "rent.plot()"
      ],
      "execution_count": 0,
      "outputs": [
        {
          "output_type": "execute_result",
          "data": {
            "text/plain": [
              "<matplotlib.axes._subplots.AxesSubplot at 0x7f6f7c734c88>"
            ]
          },
          "metadata": {
            "tags": []
          },
          "execution_count": 9
        },
        {
          "output_type": "display_data",
          "data": {
            "image/png": "[encoded data removed]",
            "text/plain": [
              "<Figure size 432x288 with 1 Axes>"
            ]
          },
          "metadata": {
            "tags": []
          }
        }
      ]
    },
    {
      "cell_type": "code",
      "metadata": {
        "id": "mO9IxCIa_6za",
        "colab_type": "code",
        "colab": {}
      },
      "source": [
        "catagory=twobr"
      ],
      "execution_count": 0,
      "outputs": []
    },
    {
      "cell_type": "markdown",
      "metadata": {
        "id": "oQqQghVJzV_s",
        "colab_type": "text"
      },
      "source": [
        "to run test on different catagory use name from list above and input in \n",
        "\n",
        "```\n",
        "# ARIMA(*catagory name*,order=p, d, q)\n",
        "```\n",
        "also if when ran a error comes up just change the p d q #'s till runs\n"
      ]
    },
    {
      "cell_type": "code",
      "metadata": {
        "id": "Xm_RNaAu7-Z3",
        "colab_type": "code",
        "outputId": "0751f485-6649-4f81-a4a3-aae39f98b6a4",
        "colab": {
          "base_uri": "https://localhost:8080/",
          "height": 34
        }
      },
      "source": [
        "model_arima = ARIMA(catagory,order=(0, 1, 3))\n",
        "model_arima_fit = model_arima.fit()\n",
        "print(model_arima_fit.aic)\n",
        "residuals=DataFrame(model_arima_fit.resid)"
      ],
      "execution_count": 0,
      "outputs": [
        {
          "output_type": "stream",
          "text": [
            "394.9547581011139\n"
          ],
          "name": "stdout"
        }
      ]
    },
    {
      "cell_type": "code",
      "metadata": {
        "id": "G-hcHo718TGL",
        "colab_type": "code",
        "outputId": "5d4cc43f-73b8-42d9-ae55-64f66646592a",
        "colab": {
          "base_uri": "https://localhost:8080/",
          "height": 571
        }
      },
      "source": [
        "print(model_arima_fit.summary())\n",
        "print(residuals.describe())"
      ],
      "execution_count": 0,
      "outputs": [
        {
          "output_type": "stream",
          "text": [
            "                             ARIMA Model Results                              \n",
            "==============================================================================\n",
            "Dep. Variable:                  D.2br   No. Observations:                   71\n",
            "Model:                 ARIMA(0, 1, 3)   Log Likelihood                -192.477\n",
            "Method:                       css-mle   S.D. of innovations              3.574\n",
            "Date:                Mon, 17 Feb 2020   AIC                            394.955\n",
            "Time:                        21:50:54   BIC                            406.268\n",
            "Sample:                    02-01-2014   HQIC                           399.454\n",
            "                         - 12-01-2019                                         \n",
            "===============================================================================\n",
            "                  coef    std err          z      P>|z|      [0.025      0.975]\n",
            "-------------------------------------------------------------------------------\n",
            "const           3.0873      1.318      2.342      0.022       0.504       5.671\n",
            "ma.L1.D.2br     0.9977      0.113      8.807      0.000       0.776       1.220\n",
            "ma.L2.D.2br     0.9773      0.130      7.519      0.000       0.723       1.232\n",
            "ma.L3.D.2br     0.1800      0.126      1.427      0.158      -0.067       0.427\n",
            "                                    Roots                                    \n",
            "=============================================================================\n",
            "                  Real          Imaginary           Modulus         Frequency\n",
            "-----------------------------------------------------------------------------\n",
            "MA.1           -0.4812           -1.0061j            1.1152           -0.3210\n",
            "MA.2           -0.4812           +1.0061j            1.1152            0.3210\n",
            "MA.3           -4.4656           -0.0000j            4.4656           -0.5000\n",
            "-----------------------------------------------------------------------------\n",
            "               0\n",
            "count  71.000000\n",
            "mean    0.035133\n",
            "std     3.638991\n",
            "min   -10.809156\n",
            "25%    -1.761663\n",
            "50%    -0.385080\n",
            "75%     2.581489\n",
            "max     9.308828\n"
          ],
          "name": "stdout"
        }
      ]
    },
    {
      "cell_type": "code",
      "metadata": {
        "id": "q8lyhxW98ZmH",
        "colab_type": "code",
        "outputId": "4ce045ae-c8d1-450b-d973-2555dbcdc85e",
        "colab": {
          "base_uri": "https://localhost:8080/",
          "height": 67
        }
      },
      "source": [
        "predictions= model_arima_fit.forecast(steps=12)[0]\n",
        "predictions"
      ],
      "execution_count": 0,
      "outputs": [
        {
          "output_type": "execute_result",
          "data": {
            "text/plain": [
              "array([1358.63756077, 1361.02230645, 1363.79443031, 1366.88171468,\n",
              "       1369.96899905, 1373.05628342, 1376.1435678 , 1379.23085217,\n",
              "       1382.31813654, 1385.40542091, 1388.49270529, 1391.57998966])"
            ]
          },
          "metadata": {
            "tags": []
          },
          "execution_count": 68
        }
      ]
    },
    {
      "cell_type": "code",
      "metadata": {
        "id": "NvY21OIcArdh",
        "colab_type": "code",
        "outputId": "9551762b-7ad9-4eb7-fc71-9ea87e11ae3f",
        "colab": {
          "base_uri": "https://localhost:8080/",
          "height": 285
        }
      },
      "source": [
        "plt.plot(predictions)"
      ],
      "execution_count": 0,
      "outputs": [
        {
          "output_type": "execute_result",
          "data": {
            "text/plain": [
              "[<matplotlib.lines.Line2D at 0x7f6f771c07b8>]"
            ]
          },
          "metadata": {
            "tags": []
          },
          "execution_count": 69
        },
        {
          "output_type": "display_data",
          "data": {
            "image/png": "[encoded data removed]",
            "text/plain": [
              "<Figure size 432x288 with 1 Axes>"
            ]
          },
          "metadata": {
            "tags": []
          }
        }
      ]
    },
    {
      "cell_type": "markdown",
      "metadata": {
        "id": "kCVqL5alWmby",
        "colab_type": "text"
      },
      "source": [
        "The next 2 cells are to find the best pdq for the ARIMA model"
      ]
    },
    {
      "cell_type": "code",
      "metadata": {
        "id": "Jo-nzRYw8a89",
        "colab_type": "code",
        "outputId": "e6c7ccd5-8267-4c73-f567-7315f61b4cc7",
        "colab": {
          "base_uri": "https://localhost:8080/",
          "height": 2117
        }
      },
      "source": [
        "p=d=q=range(0,5)\n",
        "pdq = list(itertools.product(p,d,q))\n",
        "pdq"
      ],
      "execution_count": 0,
      "outputs": [
        {
          "output_type": "execute_result",
          "data": {
            "text/plain": [
              "[(0, 0, 0),\n",
              " (0, 0, 1),\n",
              " (0, 0, 2),\n",
              " (0, 0, 3),\n",
              " (0, 0, 4),\n",
              " (0, 1, 0),\n",
              " (0, 1, 1),\n",
              " (0, 1, 2),\n",
              " (0, 1, 3),\n",
              " (0, 1, 4),\n",
              " (0, 2, 0),\n",
              " (0, 2, 1),\n",
              " (0, 2, 2),\n",
              " (0, 2, 3),\n",
              " (0, 2, 4),\n",
              " (0, 3, 0),\n",
              " (0, 3, 1),\n",
              " (0, 3, 2),\n",
              " (0, 3, 3),\n",
              " (0, 3, 4),\n",
              " (0, 4, 0),\n",
              " (0, 4, 1),\n",
              " (0, 4, 2),\n",
              " (0, 4, 3),\n",
              " (0, 4, 4),\n",
              " (1, 0, 0),\n",
              " (1, 0, 1),\n",
              " (1, 0, 2),\n",
              " (1, 0, 3),\n",
              " (1, 0, 4),\n",
              " (1, 1, 0),\n",
              " (1, 1, 1),\n",
              " (1, 1, 2),\n",
              " (1, 1, 3),\n",
              " (1, 1, 4),\n",
              " (1, 2, 0),\n",
              " (1, 2, 1),\n",
              " (1, 2, 2),\n",
              " (1, 2, 3),\n",
              " (1, 2, 4),\n",
              " (1, 3, 0),\n",
              " (1, 3, 1),\n",
              " (1, 3, 2),\n",
              " (1, 3, 3),\n",
              " (1, 3, 4),\n",
              " (1, 4, 0),\n",
              " (1, 4, 1),\n",
              " (1, 4, 2),\n",
              " (1, 4, 3),\n",
              " (1, 4, 4),\n",
              " (2, 0, 0),\n",
              " (2, 0, 1),\n",
              " (2, 0, 2),\n",
              " (2, 0, 3),\n",
              " (2, 0, 4),\n",
              " (2, 1, 0),\n",
              " (2, 1, 1),\n",
              " (2, 1, 2),\n",
              " (2, 1, 3),\n",
              " (2, 1, 4),\n",
              " (2, 2, 0),\n",
              " (2, 2, 1),\n",
              " (2, 2, 2),\n",
              " (2, 2, 3),\n",
              " (2, 2, 4),\n",
              " (2, 3, 0),\n",
              " (2, 3, 1),\n",
              " (2, 3, 2),\n",
              " (2, 3, 3),\n",
              " (2, 3, 4),\n",
              " (2, 4, 0),\n",
              " (2, 4, 1),\n",
              " (2, 4, 2),\n",
              " (2, 4, 3),\n",
              " (2, 4, 4),\n",
              " (3, 0, 0),\n",
              " (3, 0, 1),\n",
              " (3, 0, 2),\n",
              " (3, 0, 3),\n",
              " (3, 0, 4),\n",
              " (3, 1, 0),\n",
              " (3, 1, 1),\n",
              " (3, 1, 2),\n",
              " (3, 1, 3),\n",
              " (3, 1, 4),\n",
              " (3, 2, 0),\n",
              " (3, 2, 1),\n",
              " (3, 2, 2),\n",
              " (3, 2, 3),\n",
              " (3, 2, 4),\n",
              " (3, 3, 0),\n",
              " (3, 3, 1),\n",
              " (3, 3, 2),\n",
              " (3, 3, 3),\n",
              " (3, 3, 4),\n",
              " (3, 4, 0),\n",
              " (3, 4, 1),\n",
              " (3, 4, 2),\n",
              " (3, 4, 3),\n",
              " (3, 4, 4),\n",
              " (4, 0, 0),\n",
              " (4, 0, 1),\n",
              " (4, 0, 2),\n",
              " (4, 0, 3),\n",
              " (4, 0, 4),\n",
              " (4, 1, 0),\n",
              " (4, 1, 1),\n",
              " (4, 1, 2),\n",
              " (4, 1, 3),\n",
              " (4, 1, 4),\n",
              " (4, 2, 0),\n",
              " (4, 2, 1),\n",
              " (4, 2, 2),\n",
              " (4, 2, 3),\n",
              " (4, 2, 4),\n",
              " (4, 3, 0),\n",
              " (4, 3, 1),\n",
              " (4, 3, 2),\n",
              " (4, 3, 3),\n",
              " (4, 3, 4),\n",
              " (4, 4, 0),\n",
              " (4, 4, 1),\n",
              " (4, 4, 2),\n",
              " (4, 4, 3),\n",
              " (4, 4, 4)]"
            ]
          },
          "metadata": {
            "tags": []
          },
          "execution_count": 16
        }
      ]
    },
    {
      "cell_type": "markdown",
      "metadata": {
        "id": "goL7zxjN0ebj",
        "colab_type": "text"
      },
      "source": [
        "change catagory name"
      ]
    },
    {
      "cell_type": "code",
      "metadata": {
        "id": "UbHpKpx-8iTl",
        "colab_type": "code",
        "outputId": "136c2722-0123-4886-f3ff-cc27659b4d2f",
        "colab": {
          "base_uri": "https://localhost:8080/",
          "height": 790
        }
      },
      "source": [
        "warnings.filterwarnings('ignore')\n",
        "for param in pdq:\n",
        "    try:\n",
        "        model_arima = ARIMA(catagory,order=param)\n",
        "        model_arima_fit = model_arima.fit()\n",
        "        print(param,model_arima_fit.aic)\n",
        "    except:\n",
        "        continue"
      ],
      "execution_count": 0,
      "outputs": [
        {
          "output_type": "stream",
          "text": [
            "(0, 0, 0) 805.7354132592351\n",
            "(0, 0, 1) 718.6074170967088\n",
            "(0, 1, 0) 467.9440994673186\n",
            "(0, 1, 1) 432.8821765490904\n",
            "(0, 1, 3) 394.9547581011139\n",
            "(0, 1, 4) 396.88903870159095\n",
            "(0, 2, 0) 414.663377480988\n",
            "(0, 2, 1) 415.78484753244436\n",
            "(0, 2, 2) 413.93481188604346\n",
            "(0, 2, 3) 391.8177188708531\n",
            "(0, 2, 4) 392.24858459147447\n",
            "(1, 0, 0) 497.5068201207963\n",
            "(1, 0, 1) 457.5393451384442\n",
            "(1, 0, 2) 415.9741091796334\n",
            "(1, 0, 3) 413.9091149169772\n",
            "(1, 0, 4) 415.4317023572727\n",
            "(1, 1, 0) 412.8732005028618\n",
            "(1, 1, 1) 411.9686285223403\n",
            "(1, 1, 2) 394.8370940481266\n",
            "(1, 2, 0) 415.4805698240522\n",
            "(1, 2, 1) 410.6166782416384\n",
            "(1, 2, 2) 409.61264836700235\n",
            "(2, 0, 0) 427.9558823570514\n",
            "(2, 0, 1) 427.68245370345767\n",
            "(2, 0, 2) 413.04459871692666\n",
            "(2, 1, 0) 408.6134629255366\n",
            "(2, 1, 1) 400.22053521047997\n",
            "(2, 1, 2) 398.225136808592\n",
            "(2, 2, 0) 416.07490814099145\n",
            "(2, 2, 1) 405.9133883437902\n",
            "(2, 2, 2) 386.92665633813783\n",
            "(3, 0, 0) 425.59355018427823\n",
            "(3, 0, 1) 436.91091809827867\n",
            "(3, 0, 2) 441.84005651046107\n",
            "(3, 1, 0) 396.79117958390293\n",
            "(3, 1, 1) 398.5235019515528\n",
            "(3, 2, 0) 410.23301706113887\n",
            "(3, 2, 1) 392.7115494311417\n",
            "(4, 0, 0) 418.7311326562253\n",
            "(4, 0, 1) 441.41941898166795\n",
            "(4, 0, 2) 439.4367151583397\n",
            "(4, 1, 0) 398.7876391998806\n",
            "(4, 1, 1) 400.2112180106576\n",
            "(4, 1, 3) 405.01605189986753\n",
            "(4, 2, 0) 412.23251931672814\n",
            "(4, 2, 1) 394.6046964645973\n"
          ],
          "name": "stdout"
        }
      ]
    },
    {
      "cell_type": "markdown",
      "metadata": {
        "id": "Sla_5SbHX3wK",
        "colab_type": "text"
      },
      "source": [
        "Here I am taking the 2019 rates and running them in a t test against the projected rates"
      ]
    },
    {
      "cell_type": "markdown",
      "metadata": {
        "id": "_-bk6y3g0lED",
        "colab_type": "text"
      },
      "source": [
        "change catagory name"
      ]
    },
    {
      "cell_type": "code",
      "metadata": {
        "id": "yQ2b3fQj_xVS",
        "colab_type": "code",
        "colab": {}
      },
      "source": [
        "test = catagory[60:]"
      ],
      "execution_count": 0,
      "outputs": []
    },
    {
      "cell_type": "code",
      "metadata": {
        "id": "TesRPNPKF18C",
        "colab_type": "code",
        "colab": {}
      },
      "source": [
        "from scipy import stats\n",
        "import math"
      ],
      "execution_count": 0,
      "outputs": []
    },
    {
      "cell_type": "code",
      "metadata": {
        "id": "dz2V0u9UFRTa",
        "colab_type": "code",
        "outputId": "6b67554d-8ca3-4f46-afd0-bbfc66fb3280",
        "colab": {
          "base_uri": "https://localhost:8080/",
          "height": 34
        }
      },
      "source": [
        "stats.ttest_ind(test,predictions)"
      ],
      "execution_count": 0,
      "outputs": [
        {
          "output_type": "execute_result",
          "data": {
            "text/plain": [
              "Ttest_indResult(statistic=-5.18155773426319, pvalue=3.398022900004006e-05)"
            ]
          },
          "metadata": {
            "tags": []
          },
          "execution_count": 72
        }
      ]
    },
    {
      "cell_type": "code",
      "metadata": {
        "id": "m-43WRxuGAdI",
        "colab_type": "code",
        "outputId": "1ad1e938-bee5-4ccf-8ad4-68ddbdb6d741",
        "colab": {
          "base_uri": "https://localhost:8080/",
          "height": 34
        }
      },
      "source": [
        "stats.pearsonr(test,predictions)"
      ],
      "execution_count": 0,
      "outputs": [
        {
          "output_type": "execute_result",
          "data": {
            "text/plain": [
              "(0.5181783157937188, 0.08437755082120452)"
            ]
          },
          "metadata": {
            "tags": []
          },
          "execution_count": 73
        }
      ]
    },
    {
      "cell_type": "markdown",
      "metadata": {
        "id": "GCT2rTqXSu0O",
        "colab_type": "text"
      },
      "source": [
        "this will install pingouin, i found that by using it for the t test it gave a cleaner look and more information around the t test."
      ]
    },
    {
      "cell_type": "code",
      "metadata": {
        "id": "QvCGGQbnG0Op",
        "colab_type": "code",
        "colab": {}
      },
      "source": [
        "pip install --upgrade pingouin"
      ],
      "execution_count": 0,
      "outputs": []
    },
    {
      "cell_type": "code",
      "metadata": {
        "id": "J3dQJAfARBxg",
        "colab_type": "code",
        "colab": {}
      },
      "source": [
        "import pingouin as pg"
      ],
      "execution_count": 0,
      "outputs": []
    },
    {
      "cell_type": "code",
      "metadata": {
        "id": "K_ik-DXJRK2L",
        "colab_type": "code",
        "outputId": "efb94ab6-ef20-498c-94ce-ccf8199588a1",
        "colab": {
          "base_uri": "https://localhost:8080/",
          "height": 77
        }
      },
      "source": [
        "pg.ttest(test,predictions)"
      ],
      "execution_count": 0,
      "outputs": [
        {
          "output_type": "execute_result",
          "data": {
            "text/html": [
              "<div>\n",
              "<style scoped>\n",
              "    .dataframe tbody tr th:only-of-type {\n",
              "        vertical-align: middle;\n",
              "    }\n",
              "\n",
              "    .dataframe tbody tr th {\n",
              "        vertical-align: top;\n",
              "    }\n",
              "\n",
              "    .dataframe thead th {\n",
              "        text-align: right;\n",
              "    }\n",
              "</style>\n",
              "<table border=\"1\" class=\"dataframe\">\n",
              "  <thead>\n",
              "    <tr style=\"text-align: right;\">\n",
              "      <th></th>\n",
              "      <th>T</th>\n",
              "      <th>dof</th>\n",
              "      <th>tail</th>\n",
              "      <th>p-val</th>\n",
              "      <th>CI95%</th>\n",
              "      <th>cohen-d</th>\n",
              "      <th>BF10</th>\n",
              "      <th>power</th>\n",
              "    </tr>\n",
              "  </thead>\n",
              "  <tbody>\n",
              "    <tr>\n",
              "      <th>T-test</th>\n",
              "      <td>-5.182</td>\n",
              "      <td>22</td>\n",
              "      <td>two-sided</td>\n",
              "      <td>0.000034</td>\n",
              "      <td>[-28.07, -12.02]</td>\n",
              "      <td>2.115</td>\n",
              "      <td>509.863</td>\n",
              "      <td>0.999</td>\n",
              "    </tr>\n",
              "  </tbody>\n",
              "</table>\n",
              "</div>"
            ],
            "text/plain": [
              "            T  dof       tail  ...  cohen-d     BF10  power\n",
              "T-test -5.182   22  two-sided  ...    2.115  509.863  0.999\n",
              "\n",
              "[1 rows x 8 columns]"
            ]
          },
          "metadata": {
            "tags": []
          },
          "execution_count": 74
        }
      ]
    },
    {
      "cell_type": "code",
      "metadata": {
        "id": "B7rDh_dBRVVL",
        "colab_type": "code",
        "outputId": "5922da03-959e-4f08-b1c9-9d21b2e7aaa9",
        "colab": {
          "base_uri": "https://localhost:8080/",
          "height": 168
        }
      },
      "source": [
        "test.describe()"
      ],
      "execution_count": 0,
      "outputs": [
        {
          "output_type": "execute_result",
          "data": {
            "text/plain": [
              "count      12.000000\n",
              "mean     1354.666667\n",
              "std         7.714606\n",
              "min      1343.000000\n",
              "25%      1350.000000\n",
              "50%      1353.500000\n",
              "75%      1362.000000\n",
              "max      1365.000000\n",
              "Name: 2br, dtype: float64"
            ]
          },
          "metadata": {
            "tags": []
          },
          "execution_count": 75
        }
      ]
    },
    {
      "cell_type": "code",
      "metadata": {
        "id": "N4lfU9CmpzRU",
        "colab_type": "code",
        "colab": {}
      },
      "source": [
        "s=pd.Series(predictions)"
      ],
      "execution_count": 0,
      "outputs": []
    },
    {
      "cell_type": "code",
      "metadata": {
        "id": "FSSGqqxUrK5b",
        "colab_type": "code",
        "outputId": "7965dc22-81a4-45bf-c7f2-ac9459c42fc0",
        "colab": {
          "base_uri": "https://localhost:8080/",
          "height": 168
        }
      },
      "source": [
        "s.describe()"
      ],
      "execution_count": 0,
      "outputs": [
        {
          "output_type": "execute_result",
          "data": {
            "text/plain": [
              "count      12.000000\n",
              "mean     1374.710997\n",
              "std        10.957141\n",
              "min      1358.637561\n",
              "25%      1366.109894\n",
              "50%      1374.599926\n",
              "75%      1383.089958\n",
              "max      1391.579990\n",
              "dtype: float64"
            ]
          },
          "metadata": {
            "tags": []
          },
          "execution_count": 77
        }
      ]
    },
    {
      "cell_type": "code",
      "metadata": {
        "id": "KAjDvF0yztZ1",
        "colab_type": "code",
        "colab": {}
      },
      "source": [
        ""
      ],
      "execution_count": 0,
      "outputs": []
    }
  ]
}